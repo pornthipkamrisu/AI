{
 "cells": [
  {
   "cell_type": "code",
   "execution_count": 5,
   "metadata": {
    "id": "iHeueXOV6qsh"
   },
   "outputs": [],
   "source": [
    "import numpy as np\n",
    "import matplotlib.pyplot as plt\n",
    "from tensorflow.keras.datasets import cifar10\n",
    "from tensorflow.keras.models import Sequential\n",
    "from tensorflow.keras.layers import Dense, Flatten, MaxPooling2D, Conv2D"
   ]
  },
  {
   "cell_type": "code",
   "execution_count": 6,
   "metadata": {
    "colab": {
     "base_uri": "https://localhost:8080/",
     "height": 159
    },
    "id": "nxAqB1396qsk",
    "outputId": "b724a71c-c0c7-4b99-d4e2-2fdcfb74dabe"
   },
   "outputs": [
    {
     "name": "stdout",
     "output_type": "stream",
     "text": [
      "X_train data shape is (50000, 32, 32, 3)\n",
      "y_train data shape is (50000, 1)\n",
      "X_test data shape is (10000, 32, 32, 3)\n",
      "y_test data shape is (10000, 1)\n",
      "X_train data type is uint8\n",
      "y_train data type is uint8\n",
      "X_test data type is uint8\n",
      "y_test data type is uint8\n"
     ]
    }
   ],
   "source": [
    "# Load the MNIST data\n",
    "(X_train, y_train), (X_test, y_test) = cifar10.load_data()\n",
    "\n",
    "# Check data dimension\n",
    "print(\"X_train data shape is\", X_train.shape)\n",
    "print(\"y_train data shape is\", y_train.shape)\n",
    "print(\"X_test data shape is\", X_test.shape)\n",
    "print(\"y_test data shape is\", y_test.shape)\n",
    "\n",
    "# Check data type\n",
    "print(\"X_train data type is\", X_train.dtype)\n",
    "print(\"y_train data type is\", y_train.dtype)\n",
    "print(\"X_test data type is\", X_test.dtype)\n",
    "print(\"y_test data type is\", y_test.dtype)"
   ]
  },
  {
   "cell_type": "code",
   "execution_count": 7,
   "metadata": {
    "colab": {
     "base_uri": "https://localhost:8080/",
     "height": 301
    },
    "id": "lDS9IWrq6qsn",
    "outputId": "54dc2982-efb0-472a-8c18-291726e0148d"
   },
   "outputs": [
    {
     "name": "stdout",
     "output_type": "stream",
     "text": [
      "[4]\n"
     ]
    },
    {
     "data": {
      "text/plain": [
       "<matplotlib.image.AxesImage at 0x20cacaad970>"
      ]
     },
     "execution_count": 7,
     "metadata": {},
     "output_type": "execute_result"
    },
    {
     "data": {
      "image/png": "[encoded data removed]",
      "text/plain": [
       "<Figure size 432x288 with 1 Axes>"
      ]
     },
     "metadata": {
      "needs_background": "light"
     },
     "output_type": "display_data"
    }
   ],
   "source": [
    "# Visualise sample data\n",
    "img_index = 66\n",
    "print(y_train[img_index])\n",
    "plt.imshow(X_train[img_index])"
   ]
  },
  {
   "cell_type": "code",
   "execution_count": 8,
   "metadata": {
    "colab": {
     "base_uri": "https://localhost:8080/",
     "height": 88
    },
    "id": "RDcig0EX6qsp",
    "outputId": "24cb6938-2a80-4544-bee0-a865def0a212"
   },
   "outputs": [
    {
     "name": "stdout",
     "output_type": "stream",
     "text": [
      "X_train shape: (50000, 32, 32, 3)\n",
      "X_test shape: (10000, 32, 32, 3)\n",
      "y_train shape: (50000, 1)\n",
      "y_test shape: (10000, 1)\n"
     ]
    }
   ],
   "source": [
    "# Reshaping the array to 3-d for Keras\n",
    "X_train = X_train.reshape(X_train.shape[0], 32, 32, 3)\n",
    "X_test = X_test.reshape(X_test.shape[0], 32, 32, 3)\n",
    "\n",
    "# Specify input shape for the mode's 1st layer\n",
    "input_shape = (32, 32, 3)\n",
    "\n",
    "# Convert data type to float so we can get decimal points after division\n",
    "# Also scope down X_train and X_test to 2000:400 samples\n",
    "X_train = X_train.astype('float32')\n",
    "X_test = X_test.astype('float32')\n",
    "\n",
    "# Also scope down y_train and y_test to 2000:400 samples\n",
    "\n",
    "# Normalising all data by dividing by max brightness value.\n",
    "X_train /= 255\n",
    "X_test /= 255\n",
    "print('X_train shape:', X_train.shape)\n",
    "print('X_test shape:', X_test.shape)\n",
    "print('y_train shape:', y_train.shape)\n",
    "print('y_test shape:', y_test.shape)"
   ]
  },
  {
   "cell_type": "code",
   "execution_count": 9,
   "metadata": {
    "id": "Gc-Il5du6qss"
   },
   "outputs": [],
   "source": [
    "# Build and compile model\n",
    "model = Sequential()\n",
    "model.add( Conv2D(50,(6,6),activation='relu' ,input_shape= (32,32,3)  ) )\n",
    "model.add(MaxPooling2D((4,4)))\n",
    "model.add(Flatten())\n",
    "model.add(Dense(512,activation='relu'))\n",
    "model.add(Dense(256,activation='relu'))\n",
    "model.add(Dense(128,activation='relu'))\n",
    "model.add(Dense(10,activation='softmax' ))\n",
    "\n",
    "model.compile(optimizer='adam',\n",
    "              loss='sparse_categorical_crossentropy',\n",
    "              metrics=['accuracy'])"
   ]
  },
  {
   "cell_type": "code",
   "execution_count": 10,
   "metadata": {
    "colab": {
     "base_uri": "https://localhost:8080/",
     "height": 746
    },
    "id": "q1_jYKfD6qsu",
    "outputId": "993e4c9f-58b3-4005-bdbb-04e76ddd022d"
   },
   "outputs": [
    {
     "name": "stdout",
     "output_type": "stream",
     "text": [
      "Epoch 1/20\n",
      "157/157 [==============================] - 31s 197ms/step - loss: 1.6773 - accuracy: 0.3826 - val_loss: 1.4535 - val_accuracy: 0.4789\n",
      "Epoch 2/20\n",
      "157/157 [==============================] - 31s 198ms/step - loss: 1.3391 - accuracy: 0.5134 - val_loss: 1.2895 - val_accuracy: 0.5459\n",
      "Epoch 3/20\n",
      "157/157 [==============================] - 32s 202ms/step - loss: 1.2073 - accuracy: 0.5713 - val_loss: 1.2961 - val_accuracy: 0.5496\n",
      "Epoch 4/20\n",
      "157/157 [==============================] - 30s 191ms/step - loss: 1.0939 - accuracy: 0.6111 - val_loss: 1.1240 - val_accuracy: 0.6093\n",
      "Epoch 5/20\n",
      "157/157 [==============================] - 30s 190ms/step - loss: 0.9990 - accuracy: 0.6468 - val_loss: 1.0724 - val_accuracy: 0.6299\n",
      "Epoch 6/20\n",
      "157/157 [==============================] - 31s 197ms/step - loss: 0.9294 - accuracy: 0.6739 - val_loss: 1.0403 - val_accuracy: 0.6347\n",
      "Epoch 7/20\n",
      "157/157 [==============================] - 31s 199ms/step - loss: 0.8563 - accuracy: 0.7005 - val_loss: 1.0106 - val_accuracy: 0.6515\n",
      "Epoch 8/20\n",
      "157/157 [==============================] - 29s 182ms/step - loss: 0.7807 - accuracy: 0.7271 - val_loss: 0.9763 - val_accuracy: 0.6665\n",
      "Epoch 9/20\n",
      "157/157 [==============================] - 26s 164ms/step - loss: 0.7177 - accuracy: 0.7463 - val_loss: 0.9956 - val_accuracy: 0.6775\n",
      "Epoch 10/20\n",
      "157/157 [==============================] - 26s 164ms/step - loss: 0.6427 - accuracy: 0.7761 - val_loss: 1.0063 - val_accuracy: 0.6728\n",
      "Epoch 11/20\n",
      "157/157 [==============================] - 26s 163ms/step - loss: 0.5944 - accuracy: 0.7942 - val_loss: 0.9922 - val_accuracy: 0.6811\n",
      "Epoch 12/20\n",
      "157/157 [==============================] - 24s 155ms/step - loss: 0.5332 - accuracy: 0.8152 - val_loss: 1.0476 - val_accuracy: 0.6712\n",
      "Epoch 13/20\n",
      "157/157 [==============================] - 25s 160ms/step - loss: 0.4622 - accuracy: 0.8379 - val_loss: 1.1106 - val_accuracy: 0.6750\n",
      "Epoch 14/20\n",
      "157/157 [==============================] - 24s 150ms/step - loss: 0.4050 - accuracy: 0.8607 - val_loss: 1.1497 - val_accuracy: 0.6751\n",
      "Epoch 15/20\n",
      "157/157 [==============================] - 27s 171ms/step - loss: 0.3475 - accuracy: 0.8803 - val_loss: 1.2293 - val_accuracy: 0.6699\n",
      "Epoch 16/20\n",
      "157/157 [==============================] - 25s 162ms/step - loss: 0.3084 - accuracy: 0.8913 - val_loss: 1.2234 - val_accuracy: 0.6801\n",
      "Epoch 17/20\n",
      "157/157 [==============================] - 26s 166ms/step - loss: 0.2414 - accuracy: 0.9168 - val_loss: 1.3473 - val_accuracy: 0.6657\n",
      "Epoch 18/20\n",
      "157/157 [==============================] - 27s 169ms/step - loss: 0.2264 - accuracy: 0.9220 - val_loss: 1.4029 - val_accuracy: 0.6681\n",
      "Epoch 19/20\n",
      "157/157 [==============================] - 27s 169ms/step - loss: 0.1927 - accuracy: 0.9332 - val_loss: 1.4685 - val_accuracy: 0.6720\n",
      "Epoch 20/20\n",
      "157/157 [==============================] - 26s 166ms/step - loss: 0.1666 - accuracy: 0.9429 - val_loss: 1.5918 - val_accuracy: 0.6739\n"
     ]
    },
    {
     "data": {
      "text/plain": [
       "<tensorflow.python.keras.callbacks.History at 0x20cb47526d0>"
      ]
     },
     "execution_count": 10,
     "metadata": {},
     "output_type": "execute_result"
    }
   ],
   "source": [
    "# Fit the model to data\n",
    "model.fit(X_train, y_train, epochs=20, batch_size=256, validation_split=0.2, verbose=1)"
   ]
  },
  {
   "cell_type": "code",
   "execution_count": 11,
   "metadata": {
    "colab": {
     "base_uri": "https://localhost:8080/",
     "height": 388
    },
    "id": "vYIHvV8P6qsw",
    "outputId": "779aa0f7-b21c-4a3d-9b17-6e09c05570d4"
   },
   "outputs": [
    {
     "data": {
      "image/png": "[encoded data removed]",
      "text/plain": [
       "<Figure size 648x432 with 1 Axes>"
      ]
     },
     "metadata": {
      "needs_background": "light"
     },
     "output_type": "display_data"
    }
   ],
   "source": [
    "# Review model's progress\n",
    "plt.figure(figsize=(9,6))\n",
    "plt.plot(model.history.history['accuracy'], label='Train accuracy')\n",
    "plt.plot(model.history.history['val_accuracy'], label='Validation accuracy')\n",
    "plt.ylabel('Value')\n",
    "plt.xlabel('No. epoch')\n",
    "plt.legend()\n",
    "plt.show()"
   ]
  },
  {
   "cell_type": "code",
   "execution_count": 12,
   "metadata": {
    "colab": {
     "base_uri": "https://localhost:8080/",
     "height": 52
    },
    "id": "SXclGMLw6qsy",
    "outputId": "efb52e6a-5f73-453f-8fc5-6ab0a58f2efa"
   },
   "outputs": [
    {
     "name": "stdout",
     "output_type": "stream",
     "text": [
      "Loss is 1.6441218852996826\n",
      "Accuracy score is 0.6646999716758728\n"
     ]
    }
   ],
   "source": [
    "# Evaluate model's accuracy\n",
    "score = model.evaluate(X_test, y_test, verbose=0)\n",
    "print(\"Loss is\", score[0])\n",
    "print(\"Accuracy score is\", score[1])"
   ]
  },
  {
   "cell_type": "code",
   "execution_count": 14,
   "metadata": {
    "colab": {
     "base_uri": "https://localhost:8080/",
     "height": 52
    },
    "id": "9KlLEbNf7fpX",
    "outputId": "81de15cc-93de-4995-a1ad-045760516e26"
   },
   "outputs": [
    {
     "name": "stdout",
     "output_type": "stream",
     "text": [
      "Loss is 0.4139229655265808\n",
      "Accuracy score is 0.9036800265312195\n"
     ]
    }
   ],
   "source": [
    "# Evaluate model's accuracy\n",
    "score = model.evaluate(X_train, y_train, verbose=0)\n",
    "print(\"Loss is\", score[0])\n",
    "print(\"Accuracy score is\", score[1])"
   ]
  },
  {
   "cell_type": "code",
   "execution_count": 15,
   "metadata": {
    "colab": {
     "base_uri": "https://localhost:8080/",
     "height": 479
    },
    "id": "C7-PJSh46qs0",
    "outputId": "78d1fe3c-b23b-4e1c-b81d-78203911b904"
   },
   "outputs": [
    {
     "name": "stdout",
     "output_type": "stream",
     "text": [
      "Prediction probability array is:\n",
      "0 : 4.5094694e-08\n",
      "1 : 1.1241846e-11\n",
      "2 : 3.6700447e-14\n",
      "3 : 4.3227218e-17\n",
      "4 : 2.944839e-17\n",
      "5 : 1.6466249e-19\n",
      "6 : 1.0857283e-18\n",
      "7 : 1.1184253e-18\n",
      "8 : 1.0\n",
      "9 : 4.1281295e-10\n",
      "From which the max choice is: ship\n"
     ]
    },
    {
     "data": {
      "image/png": "[encoded data removed]",
      "text/plain": [
       "<Figure size 432x288 with 1 Axes>"
      ]
     },
     "metadata": {
      "needs_background": "light"
     },
     "output_type": "display_data"
    }
   ],
   "source": [
    "# Make a prediction\n",
    "image_index = 4444\n",
    "plt.imshow(X_test[image_index].reshape(32, 32,3),cmap='Greys')\n",
    "pred = model.predict(X_test[image_index].reshape(1, 32, 32, 3))\n",
    "print(\"Prediction probability array is:\")\n",
    "\n",
    "count = 0\n",
    "\n",
    "x = ['airplane','automobile','bird','cat','deer','dog','frog','horse','ship','truck']\n",
    "\n",
    "for i in pred.squeeze():\n",
    "    print(count, \":\", i)\n",
    "    count += 1\n",
    "\n",
    "print(\"From which the max choice is:\", x[int(pred.argmax())])"
   ]
  },
  {
   "cell_type": "code",
   "execution_count": null,
   "metadata": {
    "id": "s2UyP5TE6qs2"
   },
   "outputs": [],
   "source": []
  }
 ],
 "metadata": {
  "accelerator": "GPU",
  "colab": {
   "collapsed_sections": [],
   "name": "As50391-7.ipynb",
   "provenance": []
  },
  "kernelspec": {
   "display_name": "Python 3",
   "language": "python",
   "name": "python3"
  },
  "language_info": {
   "codemirror_mode": {
    "name": "ipython",
    "version": 3
   },
   "file_extension": ".py",
   "mimetype": "text/x-python",
   "name": "python",
   "nbconvert_exporter": "python",
   "pygments_lexer": "ipython3",
   "version": "3.8.3"
  }
 },
 "nbformat": 4,
 "nbformat_minor": 1
}
